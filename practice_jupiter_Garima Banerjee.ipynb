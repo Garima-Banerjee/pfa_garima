{
 "cells": [
  {
   "cell_type": "code",
   "execution_count": 1,
   "id": "f3a0c035",
   "metadata": {},
   "outputs": [
    {
     "name": "stdout",
     "output_type": "stream",
     "text": [
      "0.625\n",
      "17\n"
     ]
    }
   ],
   "source": [
    "# Starting of Exercise 1\n",
    "# Example do not modify\n",
    "# Division\n",
    "print(5/8)\n",
    "#print sum of 7 and 10\n",
    "print(7+10)\n"
   ]
  },
  {
   "cell_type": "code",
   "execution_count": 2,
   "id": "a4c967b7",
   "metadata": {},
   "outputs": [
    {
     "name": "stdout",
     "output_type": "stream",
     "text": [
      "10\n",
      "0\n",
      "15\n",
      "5.0\n",
      "4\n",
      "16\n"
     ]
    }
   ],
   "source": [
    "# Addition, subtraction\n",
    "print(5+5)\n",
    "print(5-5)\n",
    "# Multiplication, division, remainder, and power\n",
    "print(3*5)\n",
    "print(10/2)\n",
    "print(18%7)\n",
    "print(4**2)\n"
   ]
  },
  {
   "cell_type": "code",
   "execution_count": 8,
   "id": "38562de1",
   "metadata": {},
   "outputs": [
    {
     "name": "stdout",
     "output_type": "stream",
     "text": [
      "Interest 1750.0000000000002\n",
      "Total Value 6750.0\n"
     ]
    }
   ],
   "source": [
    "# Interest earned by John\n",
    "print(\"Interest\",(5000*0.07*5))\n",
    "# Value of Johns Savings at this point\n",
    "print(\"Total Value\",(5000+(5000*0.07*5)))\n"
   ]
  },
  {
   "cell_type": "code",
   "execution_count": 72,
   "id": "3e965d30",
   "metadata": {},
   "outputs": [
    {
     "name": "stdout",
     "output_type": "stream",
     "text": [
      "time is 7.0\n"
     ]
    }
   ],
   "source": [
    "# Time taken by Sally to earn her interest of Rs. 4,872\n",
    "print(\"time is\",4872/(8000*0.087))\n"
   ]
  },
  {
   "cell_type": "code",
   "execution_count": 71,
   "id": "bca7c00e",
   "metadata": {},
   "outputs": [
    {
     "name": "stdout",
     "output_type": "stream",
     "text": [
      "Annual interest rate is 6.4\n"
     ]
    }
   ],
   "source": [
    "# Annual interest rate of Marie\n",
    "print(\"Annual interest rate is\",(768*100)/(3000*4))\n"
   ]
  },
  {
   "cell_type": "code",
   "execution_count": 70,
   "id": "0399c1c2",
   "metadata": {},
   "outputs": [
    {
     "name": "stdout",
     "output_type": "stream",
     "text": [
      "Money you ended up with 194.87171000000012\n"
     ]
    }
   ],
   "source": [
    "# money you ended up with after 7 years of investing $100 at 10% interest\n",
    "print(\"Money you ended up with\",(100*(1+0.1)**7))"
   ]
  },
  {
   "cell_type": "code",
   "execution_count": 21,
   "id": "a412d224",
   "metadata": {},
   "outputs": [
    {
     "name": "stdout",
     "output_type": "stream",
     "text": [
      "100\n"
     ]
    }
   ],
   "source": [
    "# Start of exercise 2\n",
    "# Create a variable savings\n",
    "savings=100\n",
    "# Print savings\n",
    "print(savings)"
   ]
  },
  {
   "cell_type": "code",
   "execution_count": 66,
   "id": "0152b3e2",
   "metadata": {},
   "outputs": [
    {
     "name": "stdout",
     "output_type": "stream",
     "text": [
      "<class 'int'>\n",
      "<class 'float'>\n",
      "194.87171000000012\n"
     ]
    }
   ],
   "source": [
    "# Create a variable savings\n",
    "savings=100\n",
    "# Checking the type of variables savings\n",
    "print(type(savings))\n",
    "# Create a variable growth_multiplier\n",
    "growth_multiplier=1.1\n",
    "# Check the type of variable growth_multiplier\n",
    "print(type(growth_multiplier))\n",
    "# Calculate result\n",
    "result=savings*(growth_multiplier** 7)\n",
    "# Print out result\n",
    "print(result)\n",
    "\n",
    "\n"
   ]
  },
  {
   "cell_type": "code",
   "execution_count": 68,
   "id": "8ee859eb",
   "metadata": {},
   "outputs": [
    {
     "name": "stdout",
     "output_type": "stream",
     "text": [
      "<class 'str'>\n",
      "<class 'bool'>\n"
     ]
    }
   ],
   "source": [
    "# Create a variable desc\n",
    "desc=\"compound interest\"\n",
    "# Checking the type of variable desc\n",
    "print(type(desc))\n",
    "# Create a variable profitable\n",
    "profitable=True\n",
    "# Checking the type of variable profitable\n",
    "print(type(profitable))\n"
   ]
  },
  {
   "cell_type": "code",
   "execution_count": 69,
   "id": "5cfd305a",
   "metadata": {},
   "outputs": [
    {
     "name": "stdout",
     "output_type": "stream",
     "text": [
      "<class 'float'>\n",
      "<class 'str'>\n",
      "<class 'bool'>\n"
     ]
    }
   ],
   "source": [
    "A= 10.7\n",
    "B= 'This is python course'\n",
    "C= False\n",
    "# Checking the type of variable​ of A, B and C\n",
    "print(type(A))\n",
    "print(type(B))\n",
    "print(type(C))"
   ]
  },
  {
   "cell_type": "code",
   "execution_count": 37,
   "id": "344a0cc0",
   "metadata": {},
   "outputs": [
    {
     "name": "stdout",
     "output_type": "stream",
     "text": [
      "<class 'float'>\n",
      "compound interestcompound interest\n"
     ]
    }
   ],
   "source": [
    "savings=100\n",
    "growth_multiplier=1.1\n",
    "desc=\"compound interest\"\n",
    "# Assign product of savings and growth_multiplier to year1\n",
    "year1=savings*growth_multiplier\n",
    "# Print the type of year1\n",
    "print(type(year1))\n",
    "# Assign sum of desc and desc to doubledesc\n",
    "doubledesc=desc+desc\n",
    "# Print out doubledesc\n",
    "print(doubledesc)"
   ]
  },
  {
   "cell_type": "code",
   "execution_count": 40,
   "id": "5f9f6934",
   "metadata": {},
   "outputs": [
    {
     "ename": "TypeError",
     "evalue": "can only concatenate str (not \"int\") to str",
     "output_type": "error",
     "traceback": [
      "\u001b[1;31m---------------------------------------------------------------------------\u001b[0m",
      "\u001b[1;31mTypeError\u001b[0m                                 Traceback (most recent call last)",
      "\u001b[1;32m<ipython-input-40-54ac7de3dfdf>\u001b[0m in \u001b[0;36m<module>\u001b[1;34m\u001b[0m\n\u001b[0;32m      4\u001b[0m \u001b[1;33m\u001b[0m\u001b[0m\n\u001b[0;32m      5\u001b[0m \u001b[1;31m# Fix the printout\u001b[0m\u001b[1;33m\u001b[0m\u001b[1;33m\u001b[0m\u001b[1;33m\u001b[0m\u001b[0m\n\u001b[1;32m----> 6\u001b[1;33m \u001b[0mprint\u001b[0m\u001b[1;33m(\u001b[0m\u001b[1;34m\"I started with $\"\u001b[0m \u001b[1;33m+\u001b[0m \u001b[0msavings\u001b[0m \u001b[1;33m+\u001b[0m \u001b[1;34m\" and now have $\"\u001b[0m \u001b[1;33m+\u001b[0m \u001b[0mresult\u001b[0m \u001b[1;33m+\u001b[0m \u001b[1;34m\". Awesome!\"\u001b[0m\u001b[1;33m)\u001b[0m\u001b[1;33m\u001b[0m\u001b[1;33m\u001b[0m\u001b[0m\n\u001b[0m",
      "\u001b[1;31mTypeError\u001b[0m: can only concatenate str (not \"int\") to str"
     ]
    }
   ],
   "source": [
    "# Definition of savings and result\n",
    "savings=100\n",
    "result=100*1.10**7\n",
    "# Output of the following wrong printout\n",
    "print(\"I started with $\" + savings + \" and now have $\" + result + \". Awesome!\")"
   ]
  },
  {
   "cell_type": "code",
   "execution_count": 41,
   "id": "e1f23253",
   "metadata": {},
   "outputs": [
    {
     "name": "stdout",
     "output_type": "stream",
     "text": [
      "I started with $100 and now have $194.87171000000012. Awesome!\n"
     ]
    }
   ],
   "source": [
    "#Fixed version of the above program\n",
    "# Definition of savings and result\n",
    "savings=100\n",
    "result=100*1.10**7\n",
    "# Fix the printout\n",
    "print(\"I started with $\" + str(savings) + \" and now have $\" + str(result) + \". Awesome!\")"
   ]
  },
  {
   "cell_type": "code",
   "execution_count": 42,
   "id": "f1dadab1",
   "metadata": {},
   "outputs": [],
   "source": [
    "# Definition of pi_string\n",
    "pi_string=\"3.1415926\"\n",
    "# Convert pi_string into float: pi_float\n",
    "pi_float=float(pi_string)\n",
    "# Multiply it by 2 to save the value in double_pi\n",
    "double_pi=pi_float*2"
   ]
  },
  {
   "cell_type": "code",
   "execution_count": 49,
   "id": "ad503009",
   "metadata": {},
   "outputs": [
    {
     "ename": "TypeError",
     "evalue": "can only concatenate str (not \"int\") to str",
     "output_type": "error",
     "traceback": [
      "\u001b[1;31m---------------------------------------------------------------------------\u001b[0m",
      "\u001b[1;31mTypeError\u001b[0m                                 Traceback (most recent call last)",
      "\u001b[1;32m<ipython-input-49-87fa130a4f22>\u001b[0m in \u001b[0;36m<module>\u001b[1;34m\u001b[0m\n\u001b[0;32m      2\u001b[0m \u001b[1;34m\"I can add integers like\"\u001b[0m\u001b[1;33m+\u001b[0m\u001b[0mstr\u001b[0m\u001b[1;33m(\u001b[0m\u001b[1;36m5\u001b[0m\u001b[1;33m)\u001b[0m\u001b[1;33m+\u001b[0m\u001b[1;34m\"to strings.\"\u001b[0m\u001b[1;33m\u001b[0m\u001b[1;33m\u001b[0m\u001b[0m\n\u001b[0;32m      3\u001b[0m \u001b[1;34m\"I said\"\u001b[0m\u001b[1;33m+\u001b[0m\u001b[1;33m(\u001b[0m\u001b[1;34m\"Hey\"\u001b[0m\u001b[1;33m*\u001b[0m\u001b[1;36m2\u001b[0m\u001b[1;33m)\u001b[0m\u001b[1;33m+\u001b[0m\u001b[1;34m\"Hey\"\u001b[0m\u001b[1;33m\u001b[0m\u001b[1;33m\u001b[0m\u001b[0m\n\u001b[1;32m----> 4\u001b[1;33m \u001b[1;34m\"the correct answer is \"\u001b[0m\u001b[1;33m+\u001b[0m\u001b[1;36m2\u001b[0m\u001b[1;33m\u001b[0m\u001b[1;33m\u001b[0m\u001b[0m\n\u001b[0m\u001b[0;32m      5\u001b[0m \u001b[1;32mTrue\u001b[0m\u001b[1;33m+\u001b[0m\u001b[1;32mFalse\u001b[0m\u001b[1;33m\u001b[0m\u001b[1;33m\u001b[0m\u001b[0m\n",
      "\u001b[1;31mTypeError\u001b[0m: can only concatenate str (not \"int\") to str"
     ]
    }
   ],
   "source": [
    "#True or False\n",
    "\"I can add integers like\"+str(5)+\"to strings.\"\n",
    "\"I said\"+(\"Hey\"*2)+\"Hey\"\n",
    "\"the correct answer is \"+2\n",
    "True+False\n",
    "#so the incorrect option is the 3rd statement"
   ]
  },
  {
   "cell_type": "code",
   "execution_count": 51,
   "id": "85a02a2e",
   "metadata": {},
   "outputs": [
    {
     "name": "stdout",
     "output_type": "stream",
     "text": [
      "Enter a number: 3\n",
      "This is an odd number.\n"
     ]
    }
   ],
   "source": [
    "# Start of exercise 3\n",
    "# Check if the entered number is even or odd\n",
    "num = float(input(\"Enter a number: \"))\n",
    "modulo = num % 2\n",
    "if modulo > 0:\n",
    "    print(\"This is an odd number.\")\n",
    "else:\n",
    "    print(\"This is an even number.\")\n",
    "    "
   ]
  },
  {
   "cell_type": "code",
   "execution_count": 52,
   "id": "4667a7c3",
   "metadata": {},
   "outputs": [
    {
     "name": "stdout",
     "output_type": "stream",
     "text": [
      "Enter temperature in Celsius: 30\n",
      "degree Fahrenheit 86.0\n"
     ]
    }
   ],
   "source": [
    "# Change the temparature from Celcius to Farenheit\n",
    "celsius=float(input('Enter temperature in Celsius: '))  \n",
    "fahrenheit=(celsius*1.8)+32  \n",
    "print('degree Fahrenheit',fahrenheit) \n"
   ]
  },
  {
   "cell_type": "code",
   "execution_count": 58,
   "id": "01b0354c",
   "metadata": {},
   "outputs": [
    {
     "name": "stdout",
     "output_type": "stream",
     "text": [
      "Enter first side: 5\n",
      "Enter second side: 4\n",
      "Enter third side: 3\n",
      "The area of the triangle is  6.0\n"
     ]
    }
   ],
   "source": [
    "# Find area of a triangle\n",
    "import math\n",
    "a=float(input('Enter first side: '))\n",
    "b=float(input('Enter second side: '))\n",
    "c=float(input('Enter third side: '))\n",
    "s=(a+b+c)/2 \n",
    "Area=math.sqrt(s*(s-a)*(s-b)*(s-c))\n",
    "print('The area of the triangle is ',Area)"
   ]
  },
  {
   "cell_type": "code",
   "execution_count": 59,
   "id": "cc6df240",
   "metadata": {},
   "outputs": [
    {
     "name": "stdout",
     "output_type": "stream",
     "text": [
      "Please Enter the radius of a circle: 9\n",
      " Area Of a Circle =  254.46900494077323\n",
      " Circumference Of a Circle = 56.548667764616276\n"
     ]
    }
   ],
   "source": [
    "# Find area and circumference of a circle\n",
    "r=float(input('Please Enter the radius of a circle: '))\n",
    "area =math.pi*r*r\n",
    "circumference=2*math.pi*r\n",
    "print(\" Area Of a Circle = \",area)\n",
    "print(\" Circumference Of a Circle =\",circumference)"
   ]
  },
  {
   "cell_type": "code",
   "execution_count": 63,
   "id": "6a741d95",
   "metadata": {},
   "outputs": [
    {
     "name": "stdout",
     "output_type": "stream",
     "text": [
      "Enter the number: 26\n",
      "the number is not a multiple of 5.\n"
     ]
    }
   ],
   "source": [
    "# Find if the number is a multiple of 5\n",
    "num=float(input('Enter the number: '))\n",
    "if (num % 5 == 0):\n",
    "   print(\"the number is a multiple of 5.\")\n",
    "else:\n",
    "    print(\"the number is not a multiple of 5.\")\n"
   ]
  },
  {
   "cell_type": "code",
   "execution_count": null,
   "id": "4b9ba395",
   "metadata": {},
   "outputs": [],
   "source": []
  }
 ],
 "metadata": {
  "kernelspec": {
   "display_name": "Python 3",
   "language": "python",
   "name": "python3"
  },
  "language_info": {
   "codemirror_mode": {
    "name": "ipython",
    "version": 3
   },
   "file_extension": ".py",
   "mimetype": "text/x-python",
   "name": "python",
   "nbconvert_exporter": "python",
   "pygments_lexer": "ipython3",
   "version": "3.8.8"
  }
 },
 "nbformat": 4,
 "nbformat_minor": 5
}
